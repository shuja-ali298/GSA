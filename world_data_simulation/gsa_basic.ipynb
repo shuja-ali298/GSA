{
 "cells": [
  {
   "cell_type": "code",
   "execution_count": 13,
   "id": "94556bd2",
   "metadata": {},
   "outputs": [
    {
     "name": "stderr",
     "output_type": "stream",
     "text": [
      "/var/folders/sk/p0bpqc995x910krmdwnwxsy00000gn/T/ipykernel_51273/1055573583.py:22: FutureWarning: The geopandas.dataset module is deprecated and will be removed in GeoPandas 1.0. You can get the original 'naturalearth_lowres' data from https://www.naturalearthdata.com/downloads/110m-cultural-vectors/.\n",
      "  world_fp = gpd.datasets.get_path(\"naturalearth_lowres\")\n"
     ]
    }
   ],
   "source": [
    "import os\n",
    "from pathlib import Path\n",
    "import geopandas as gpd\n",
    "import pandas as pd\n",
    "import matplotlib.pyplot as plt\n",
    "import folium\n",
    "from unidecode import unidecode\n",
    "\n",
    "# ---- Paths (works in notebooks & scripts) ----\n",
    "if \"__file__\" in globals():\n",
    "    ROOT = Path(__file__).resolve().parents[1]\n",
    "else:\n",
    "    ROOT = Path.cwd()\n",
    "\n",
    "OUT_DIR = ROOT / \"outputs\"\n",
    "FIG_DIR = OUT_DIR / \"figures\"\n",
    "MAP_DIR = OUT_DIR / \"maps\"\n",
    "FIG_DIR.mkdir(parents=True, exist_ok=True)\n",
    "MAP_DIR.mkdir(parents=True, exist_ok=True)\n",
    "\n",
    "# ---- Load sample data ----\n",
    "world_fp = gpd.datasets.get_path(\"naturalearth_lowres\")\n",
    "world = gpd.read_file(world_fp)"
   ]
  },
  {
   "cell_type": "code",
   "execution_count": 14,
   "id": "549f50bd",
   "metadata": {},
   "outputs": [],
   "source": [
    "# Clean a bit: remove Antarctica and rows with missing pop_est (optional)\n",
    "world = world[world[\"name\"] != \"Antarctica\"].copy()\n",
    "world = world.dropna(subset=[\"pop_est\"]).copy()\n",
    "\n",
    "# ---- English/Latin labels via transliteration ----\n",
    "world[\"label_en\"] = world[\"name\"].apply(lambda s: unidecode(s) if isinstance(s, str) else s)\n",
    "\n",
    "# Optional tidy-ups (translation, not just transliteration)\n",
    "fixes = {\n",
    "    \"Cote d'Ivoire\": \"Ivory Coast\",\n",
    "    \"Turkiye\": \"Turkey\",\n",
    "}\n",
    "world[\"label_en\"] = world[\"label_en\"].replace(fixes)\n",
    "\n",
    "# ---- Compute area in an equal-area CRS ----\n",
    "world_eq = world.to_crs(6933)  # equal-area; areas in m²\n",
    "world_eq[\"area_km2\"] = world_eq.geometry.area / 1e6\n",
    "\n",
    "# ---- Export Top 20 largest countries ----\n",
    "top20 = (world_eq.nlargest(20, \"area_km2\")[[\"name\", \"continent\", \"area_km2\"]]\n",
    "         .sort_values(\"area_km2\", ascending=False)\n",
    "         .reset_index(drop=True))\n",
    "csv_path = OUT_DIR / \"world_area_top20.csv\"\n",
    "top20.to_csv(csv_path, index=False)\n",
    "\n",
    "# ---- Static choropleth (matplotlib) ----\n",
    "fig = plt.figure(figsize=(12, 6))\n",
    "ax = fig.add_subplot(111)\n",
    "\n",
    "# Use quantiles if mapclassify is available; otherwise do a plain plot\n",
    "try:\n",
    "    import mapclassify  # noqa: F401\n",
    "    world_eq.plot(column=\"area_km2\", scheme=\"quantiles\", k=5, legend=True,\n",
    "                  ax=ax, edgecolor=\"black\", linewidth=0.2)\n",
    "except Exception:\n",
    "    world_eq.plot(column=\"area_km2\", legend=True,\n",
    "                  ax=ax, edgecolor=\"black\", linewidth=0.2)\n",
    "\n",
    "ax.set_title(\"Country Area (km²) — Equal-Area Projection\", pad=10)\n",
    "ax.set_axis_off()\n",
    "fig.tight_layout()\n",
    "png_path = FIG_DIR / \"world_area.png\"\n",
    "fig.savefig(png_path, dpi=180)\n",
    "plt.close(fig)"
   ]
  },
  {
   "cell_type": "code",
   "execution_count": 15,
   "id": "0862aca8",
   "metadata": {},
   "outputs": [],
   "source": [
    "# ---- Simple interactive map (Folium) ----\n",
    "# Compute representative points in a projected CRS to stay inside polygons\n",
    "# ---- Simple interactive map (Folium) ----\n",
    "# Build safe label points (always inside polygons)\n",
    "label_gdf = world.to_crs(3857).copy()\n",
    "label_gdf[\"geometry\"] = label_gdf.geometry.representative_point()\n",
    "label_gdf = label_gdf.to_crs(4326)\n",
    "\n",
    "m = folium.Map(location=[20, 0], zoom_start=2, tiles=None)\n",
    "folium.TileLayer('CartoDB positron', control=False).add_to(m)\n",
    "for name, continent, lat, lon in zip(\n",
    "    label_gdf[\"label_en\"],\n",
    "    label_gdf[\"continent\"],\n",
    "    label_gdf.geometry.y,\n",
    "    label_gdf.geometry.x,\n",
    "):\n",
    "    folium.CircleMarker(\n",
    "        location=[lat, lon],\n",
    "        radius=3,\n",
    "        fill=True,\n",
    "        popup=f\"{name} — {continent}\",\n",
    "    ).add_to(m)\n",
    "\n",
    "m.save(os.path.join(MAP_DIR, \"world_map.html\"))"
   ]
  }
 ],
 "metadata": {
  "kernelspec": {
   "display_name": "Python 3",
   "language": "python",
   "name": "python3"
  },
  "language_info": {
   "codemirror_mode": {
    "name": "ipython",
    "version": 3
   },
   "file_extension": ".py",
   "mimetype": "text/x-python",
   "name": "python",
   "nbconvert_exporter": "python",
   "pygments_lexer": "ipython3",
   "version": "3.9.13"
  }
 },
 "nbformat": 4,
 "nbformat_minor": 5
}

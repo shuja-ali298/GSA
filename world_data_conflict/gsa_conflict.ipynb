{
 "cells": [
  {
   "cell_type": "code",
   "execution_count": 8,
   "id": "c0a7904d",
   "metadata": {},
   "outputs": [
    {
     "name": "stderr",
     "output_type": "stream",
     "text": [
      "/var/folders/sk/p0bpqc995x910krmdwnwxsy00000gn/T/ipykernel_50705/3716437653.py:14: FutureWarning: The geopandas.dataset module is deprecated and will be removed in GeoPandas 1.0. You can get the original 'naturalearth_lowres' data from https://www.naturalearthdata.com/downloads/110m-cultural-vectors/.\n",
      "  world = gpd.read_file(gpd.datasets.get_path(\"naturalearth_lowres\"))\n"
     ]
    }
   ],
   "source": [
    "import pandas as pd, geopandas as gpd\n",
    "from pathlib import Path\n",
    "\n",
    "acd_path = \"/Users/shujaali/Downloads/github/data/UcdpPrioConflict_v25_1.csv\"  # <- your path\n",
    "\n",
    "# ACD → country-year intensity\n",
    "acd = pd.read_csv(acd_path, low_memory=False)\n",
    "acd = acd.loc[acd[\"year\"] >= 1946, [\"location\",\"year\",\"intensity_level\"]].rename(\n",
    "    columns={\"intensity_level\":\"intensity\"}\n",
    ")\n",
    "cy = acd.groupby([\"location\",\"year\"], as_index=False)[\"intensity\"].max()\n",
    "\n",
    "# Natural Earth polygons\n",
    "world = gpd.read_file(gpd.datasets.get_path(\"naturalearth_lowres\"))\n",
    "world = world[world[\"name\"] != \"Antarctica\"][[\"name\",\"iso_a3\",\"geometry\"]].copy()"
   ]
  },
  {
   "cell_type": "code",
   "execution_count": 9,
   "id": "182025b5",
   "metadata": {},
   "outputs": [],
   "source": [
    "# Light name harmonization so we can attach ISO codes\n",
    "name_fix = {\n",
    "    \"Congo, Dem. Rep.\": \"Democratic Republic of the Congo\",\n",
    "    \"Congo, Rep.\": \"Republic of the Congo\",\n",
    "    \"Côte d'Ivoire\": \"Ivory Coast\",\n",
    "    \"Eswatini\": \"Swaziland\",\n",
    "    \"Czechia\": \"Czech Republic\",\n",
    "    \"North Macedonia\": \"Macedonia\",\n",
    "    \"United States of America\": \"United States\",\n",
    "    \"Russian Federation\": \"Russia\",\n",
    "    \"Syrian Arab Republic\": \"Syria\",\n",
    "    \"Iran\": \"Iran (Islamic Republic of)\",\n",
    "    \"Viet Nam\": \"Vietnam\",\n",
    "    \"Lao PDR\": \"Laos\",\n",
    "    \"Tanzania\": \"United Republic of Tanzania\",\n",
    "    \"Bahamas\": \"The Bahamas\",\n",
    "    \"Cabo Verde\": \"Cape Verde\",\n",
    "    \"Bosnia and Herz.\": \"Bosnia and Herzegovina\",\n",
    "    \"Myanmar\": \"Myanmar (Burma)\",\n",
    "    \"The Gambia\": \"Gambia\",\n",
    "    \"Micronesia\": \"Micronesia (Federated States of)\",\n",
    "    \"Bolivia\": \"Bolivia (Plurinational State of)\",\n",
    "}\n",
    "world[\"join_loc\"] = world[\"name\"].replace(name_fix)\n",
    "cy = cy.assign(join_loc=cy[\"location\"])\n",
    "\n",
    "# Complete country×year panel (fill missing intensity = 0)\n",
    "years = list(range(1946, int(cy[\"year\"].max())+1))\n",
    "countries = world[\"join_loc\"].tolist()\n",
    "panel = pd.MultiIndex.from_product([countries, years], names=[\"join_loc\",\"year\"]).to_frame(index=False)\n",
    "\n",
    "cy_full = (\n",
    "    panel.merge(cy[[\"join_loc\",\"year\",\"intensity\"]], on=[\"join_loc\",\"year\"], how=\"left\")\n",
    "         .assign(intensity=lambda d: d[\"intensity\"].fillna(0).astype(int))\n",
    ")\n",
    "\n",
    "# Attach geometry & ISO3\n",
    "world_year = world[[\"join_loc\",\"name\",\"iso_a3\",\"geometry\"]].merge(cy_full, on=\"join_loc\", how=\"right\")\n",
    "world_year = gpd.GeoDataFrame(world_year, geometry=\"geometry\", crs=world.crs)\n",
    "world_year = world_year.dropna(subset=[\"geometry\"]).to_crs(4326)"
   ]
  },
  {
   "cell_type": "code",
   "execution_count": 11,
   "id": "5395c784",
   "metadata": {},
   "outputs": [],
   "source": [
    "import pycountry\n",
    "from unidecode import unidecode\n",
    "\n",
    "def iso3_to_en(iso):\n",
    "    if pd.isna(iso): return None\n",
    "    iso = str(iso)\n",
    "    overrides = {\"XKX\":\"Kosovo\",\"KOS\":\"Kosovo\",\"PSE\":\"Palestine\",\"SSD\":\"South Sudan\",\n",
    "                 \"SDS\":\"South Sudan\",\"TWN\":\"Taiwan\",\"ESH\":\"Western Sahara\",\"-99\":None}\n",
    "    if iso in overrides: return overrides[iso]\n",
    "    rec = pycountry.countries.get(alpha_3=iso)\n",
    "    return rec.name if rec else None\n",
    "\n",
    "# 1) ISO3 → English, 2) fallback to NE name, 3) fallback to join_loc; then transliterate\n",
    "label_en = world_year[\"iso_a3\"].map(iso3_to_en)\n",
    "ne_name_by_iso = dict(zip(world[\"iso_a3\"], world[\"name\"]))\n",
    "label_en = label_en.fillna(world_year[\"iso_a3\"].map(ne_name_by_iso))\n",
    "label_en = label_en.fillna(world_year[\"join_loc\"])\n",
    "world_year[\"label_ascii\"] = label_en.apply(lambda s: unidecode(str(s)) if pd.notna(s) else s)"
   ]
  },
  {
   "cell_type": "code",
   "execution_count": null,
   "id": "5569b299",
   "metadata": {},
   "outputs": [
    {
     "data": {
      "application/vnd.jupyter.widget-view+json": {
       "model_id": "62e58b1bad7b46198c356015029fbd64",
       "version_major": 2,
       "version_minor": 0
      },
      "text/plain": [
       "VBox(children=(HTML(value='<b>UCDP Conflict Intensity — 1946</b>'), IntSlider(value=1946, continuous_update=Fa…"
      ]
     },
     "metadata": {},
     "output_type": "display_data"
    }
   ],
   "source": [
    "import json\n",
    "import geopandas as gpd\n",
    "\n",
    "def year_geojson(df, year):\n",
    "    g = df[df[\"year\"] == year][[\"label_ascii\",\"intensity\",\"geometry\"]].copy()\n",
    "    feats=[]\n",
    "    for _, r in g.iterrows():\n",
    "        geom = r.geometry\n",
    "        if geom is None or geom.is_empty: \n",
    "            continue\n",
    "        geom_js = json.loads(gpd.GeoSeries([geom]).to_json())[\"features\"][0][\"geometry\"]\n",
    "        feats.append({\n",
    "            \"type\":\"Feature\",\n",
    "            \"geometry\": geom_js,\n",
    "            \"properties\": {\n",
    "                \"name\": r[\"label_ascii\"],\n",
    "                \"intensity\": int(r[\"intensity\"]),\n",
    "            }\n",
    "        })\n",
    "    return {\"type\":\"FeatureCollection\",\"features\":feats}\n",
    "\n",
    "years_sorted = sorted(world_year[\"year\"].unique().tolist())\n",
    "gj_cache = {y: year_geojson(world_year, y) for y in years_sorted}\n",
    "from ipyleaflet import Map, GeoJSON, LayersControl, basemaps\n",
    "from ipywidgets import IntSlider, VBox, HTML\n",
    "\n",
    "COLOR = {0:\"#d9d9d9\", 1:\"#fdae6b\", 2:\"#de2d26\"}  # none / minor / war\n",
    "\n",
    "def style_callback(feature):\n",
    "    val = int(feature[\"properties\"][\"intensity\"])\n",
    "    return {\"fillColor\": COLOR.get(val, \"#d9d9d9\"),\n",
    "            \"color\":\"white\", \"weight\":0.2, \"fillOpacity\":0.75}\n",
    "\n",
    "# Latin-only labels basemap\n",
    "m = Map(center=(20,0), zoom=2, basemap=basemaps.CartoDB.Positron, scroll_wheel_zoom=True)\n",
    "\n",
    "start_year = 1946\n",
    "layer = GeoJSON(\n",
    "    data=gj_cache[start_year],\n",
    "    style={\"color\":\"white\",\"weight\":0.2,\"fillOpacity\":0.75},  # dict\n",
    "    style_callback=style_callback,                             # function for per-feature color\n",
    "    hover_style={\"weight\":1,\"fillOpacity\":0.85}\n",
    ")\n",
    "m.add_layer(layer)\n",
    "m.add_control(LayersControl(position=\"topright\"))\n",
    "\n",
    "slider = IntSlider(description=\"Year\", min=years_sorted[0], max=years_sorted[-1],\n",
    "                   step=1, value=start_year, continuous_update=False)\n",
    "label = HTML(f\"<b>UCDP Conflict Intensity — {start_year}</b>\")\n",
    "\n",
    "def on_change(ch):\n",
    "    if ch[\"name\"] == \"value\":\n",
    "        y = int(ch[\"new\"])\n",
    "        layer.data = gj_cache[y]\n",
    "        label.value = f\"<b>UCDP Conflict Intensity — {y}</b>\"\n",
    "\n",
    "slider.observe(on_change, names=\"value\")\n",
    "\n",
    "# Display the map with slider\n",
    "VBox([label, slider, m])"
   ]
  }
 ],
 "metadata": {
  "kernelspec": {
   "display_name": "Python 3",
   "language": "python",
   "name": "python3"
  },
  "language_info": {
   "codemirror_mode": {
    "name": "ipython",
    "version": 3
   },
   "file_extension": ".py",
   "mimetype": "text/x-python",
   "name": "python",
   "nbconvert_exporter": "python",
   "pygments_lexer": "ipython3",
   "version": "3.9.13"
  }
 },
 "nbformat": 4,
 "nbformat_minor": 5
}
